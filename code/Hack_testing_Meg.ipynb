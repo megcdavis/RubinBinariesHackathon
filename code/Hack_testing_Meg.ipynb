{
 "cells": [
  {
   "cell_type": "markdown",
   "id": "fff0d176",
   "metadata": {},
   "source": [
    "# Testing:\n",
    "\n",
    "1. Try out the following classifiers and get the data loaded in a format that works for whatever classifier we're looking at. Do I need to sort back out the dictionaries?\n",
    "    - RandomForestClassifier\n",
    "    - Keras' building from scratch\n",
    "1. Have fun and don't die"
   ]
  },
  {
   "cell_type": "code",
   "execution_count": 1,
   "id": "925f820e",
   "metadata": {},
   "outputs": [],
   "source": [
    "from sklearn.neural_network import MLPClassifier\n",
    "from sklearn.ensemble import RandomForestClassifier\n",
    "from astropy.table import Table, Column\n",
    "import h5py\n",
    "import numpy as np\n",
    "\n",
    "import matplotlib.pyplot as plt\n",
    "%matplotlib inline"
   ]
  },
  {
   "cell_type": "code",
   "execution_count": 2,
   "id": "2a818cd4",
   "metadata": {},
   "outputs": [],
   "source": [
    "#transform the data, subtract off mean? make STDEV 1?\n",
    "#\n",
    "\n",
    "def read_hdf5_file(filename):\n",
    "    truths = {} #extract the meta data! Our binary or not truths live here\n",
    "    data = {} #extract the datasets, put their lightcurves here\n",
    "    \n",
    "    f = h5py.File(filename, 'r')\n",
    "    \n",
    "    for key in f.keys():\n",
    "        #truths first\n",
    "        for item in f[key].attrs:\n",
    "            truths[key] = f[key].attrs[item]\n",
    "        \n",
    "        #extract LCs\n",
    "        lcs = {}\n",
    "        for i in range(len(f[key].dtype.descr)):\n",
    "            lcs[f[key].dtype.descr[i][0]] = f[key][f[key].dtype.descr[i][0]]\n",
    "\n",
    "        data[key] = lcs\n",
    "\n",
    "    return data, truths"
   ]
  },
  {
   "cell_type": "code",
   "execution_count": 4,
   "id": "f3523a30",
   "metadata": {},
   "outputs": [
    {
     "name": "stdout",
     "output_type": "stream",
     "text": [
      "CPU times: user 8min 52s, sys: 20.2 s, total: 9min 12s\n",
      "Wall time: 9min 13s\n"
     ]
    }
   ],
   "source": [
    "%%time\n",
    "#it should take around 10 minutes for the smaller files with 10 datasets, depends on your computer\n",
    "data, truths = read_hdf5_file(\"../Hackathon_2024_lcs_small.hdf5\")"
   ]
  },
  {
   "cell_type": "code",
   "execution_count": 56,
   "id": "c2933038",
   "metadata": {},
   "outputs": [
    {
     "name": "stdout",
     "output_type": "stream",
     "text": [
      "CPU times: user 28min 5s, sys: 55.3 s, total: 29min\n",
      "Wall time: 29min 3s\n"
     ]
    }
   ],
   "source": [
    "%%time\n",
    "#it should take around 10 minutes for the smaller files with 10 datasets, depends on your computer\n",
    "data_large, truths_large = read_hdf5_file(\"../Hackathon_2024_lcs_large.hdf5\")"
   ]
  },
  {
   "cell_type": "code",
   "execution_count": 71,
   "id": "f6320d9a",
   "metadata": {
    "scrolled": true
   },
   "outputs": [],
   "source": [
    "#So I think I need arrays like [1000,100]\n",
    "#1000 things that are 100 long\n",
    "#so how about [1000, len(lc)]\n",
    "#Then y_train is the truth table\n",
    "X_train = np.zeros([1001,len(data['data0'][\"0\"])])   \n",
    "y_train = np.zeros(len(truths['data0']))\n",
    "for i in range(0,len(truths['data0'])):\n",
    "    #print(i)\n",
    "    X_train[i,:] = data['data0'][str(i)]\n",
    "    y_train[i] = truths['data0'][i]\n",
    "#should I do it like this? no. But i'm going to anyways. I am tired.     \n",
    "N = 30000    \n",
    "X_train_N = np.zeros([N,len(data_large['data0'][\"0\"])])   \n",
    "y_train_N = np.zeros(N)\n",
    "dataset_counter = 0\n",
    "internal_counter = 0\n",
    "for i in range(N):\n",
    "    #print(internal_counter)\n",
    "    #print(dataset_counter)\n",
    "    if internal_counter >=1001:\n",
    "#         print(internal_counter)\n",
    "#         print(dataset_counter)\n",
    "        internal_counter = 0\n",
    "        dataset_counter += 1\n",
    "    X_train_N[i,:] = data_large['data'+str(dataset_counter)][str(internal_counter)]\n",
    "    #print(truths['data'+str(dataset_counter)][internal_counter])\n",
    "    y_train_N[i] = truths_large['data'+str(dataset_counter)][internal_counter]\n",
    "    internal_counter += 1\n",
    "    "
   ]
  },
  {
   "cell_type": "code",
   "execution_count": 72,
   "id": "e265e504",
   "metadata": {},
   "outputs": [
    {
     "name": "stdout",
     "output_type": "stream",
     "text": [
      "CPU times: user 29min 56s, sys: 1 s, total: 29min 57s\n",
      "Wall time: 29min 58s\n"
     ]
    },
    {
     "data": {
      "text/html": [
       "<style>#sk-container-id-4 {color: black;}#sk-container-id-4 pre{padding: 0;}#sk-container-id-4 div.sk-toggleable {background-color: white;}#sk-container-id-4 label.sk-toggleable__label {cursor: pointer;display: block;width: 100%;margin-bottom: 0;padding: 0.3em;box-sizing: border-box;text-align: center;}#sk-container-id-4 label.sk-toggleable__label-arrow:before {content: \"▸\";float: left;margin-right: 0.25em;color: #696969;}#sk-container-id-4 label.sk-toggleable__label-arrow:hover:before {color: black;}#sk-container-id-4 div.sk-estimator:hover label.sk-toggleable__label-arrow:before {color: black;}#sk-container-id-4 div.sk-toggleable__content {max-height: 0;max-width: 0;overflow: hidden;text-align: left;background-color: #f0f8ff;}#sk-container-id-4 div.sk-toggleable__content pre {margin: 0.2em;color: black;border-radius: 0.25em;background-color: #f0f8ff;}#sk-container-id-4 input.sk-toggleable__control:checked~div.sk-toggleable__content {max-height: 200px;max-width: 100%;overflow: auto;}#sk-container-id-4 input.sk-toggleable__control:checked~label.sk-toggleable__label-arrow:before {content: \"▾\";}#sk-container-id-4 div.sk-estimator input.sk-toggleable__control:checked~label.sk-toggleable__label {background-color: #d4ebff;}#sk-container-id-4 div.sk-label input.sk-toggleable__control:checked~label.sk-toggleable__label {background-color: #d4ebff;}#sk-container-id-4 input.sk-hidden--visually {border: 0;clip: rect(1px 1px 1px 1px);clip: rect(1px, 1px, 1px, 1px);height: 1px;margin: -1px;overflow: hidden;padding: 0;position: absolute;width: 1px;}#sk-container-id-4 div.sk-estimator {font-family: monospace;background-color: #f0f8ff;border: 1px dotted black;border-radius: 0.25em;box-sizing: border-box;margin-bottom: 0.5em;}#sk-container-id-4 div.sk-estimator:hover {background-color: #d4ebff;}#sk-container-id-4 div.sk-parallel-item::after {content: \"\";width: 100%;border-bottom: 1px solid gray;flex-grow: 1;}#sk-container-id-4 div.sk-label:hover label.sk-toggleable__label {background-color: #d4ebff;}#sk-container-id-4 div.sk-serial::before {content: \"\";position: absolute;border-left: 1px solid gray;box-sizing: border-box;top: 0;bottom: 0;left: 50%;z-index: 0;}#sk-container-id-4 div.sk-serial {display: flex;flex-direction: column;align-items: center;background-color: white;padding-right: 0.2em;padding-left: 0.2em;position: relative;}#sk-container-id-4 div.sk-item {position: relative;z-index: 1;}#sk-container-id-4 div.sk-parallel {display: flex;align-items: stretch;justify-content: center;background-color: white;position: relative;}#sk-container-id-4 div.sk-item::before, #sk-container-id-4 div.sk-parallel-item::before {content: \"\";position: absolute;border-left: 1px solid gray;box-sizing: border-box;top: 0;bottom: 0;left: 50%;z-index: -1;}#sk-container-id-4 div.sk-parallel-item {display: flex;flex-direction: column;z-index: 1;position: relative;background-color: white;}#sk-container-id-4 div.sk-parallel-item:first-child::after {align-self: flex-end;width: 50%;}#sk-container-id-4 div.sk-parallel-item:last-child::after {align-self: flex-start;width: 50%;}#sk-container-id-4 div.sk-parallel-item:only-child::after {width: 0;}#sk-container-id-4 div.sk-dashed-wrapped {border: 1px dashed gray;margin: 0 0.4em 0.5em 0.4em;box-sizing: border-box;padding-bottom: 0.4em;background-color: white;}#sk-container-id-4 div.sk-label label {font-family: monospace;font-weight: bold;display: inline-block;line-height: 1.2em;}#sk-container-id-4 div.sk-label-container {text-align: center;}#sk-container-id-4 div.sk-container {/* jupyter's `normalize.less` sets `[hidden] { display: none; }` but bootstrap.min.css set `[hidden] { display: none !important; }` so we also need the `!important` here to be able to override the default hidden behavior on the sphinx rendered scikit-learn.org. See: https://github.com/scikit-learn/scikit-learn/issues/21755 */display: inline-block !important;position: relative;}#sk-container-id-4 div.sk-text-repr-fallback {display: none;}</style><div id=\"sk-container-id-4\" class=\"sk-top-container\"><div class=\"sk-text-repr-fallback\"><pre>RandomForestClassifier(n_estimators=1000)</pre><b>In a Jupyter environment, please rerun this cell to show the HTML representation or trust the notebook. <br />On GitHub, the HTML representation is unable to render, please try loading this page with nbviewer.org.</b></div><div class=\"sk-container\" hidden><div class=\"sk-item\"><div class=\"sk-estimator sk-toggleable\"><input class=\"sk-toggleable__control sk-hidden--visually\" id=\"sk-estimator-id-4\" type=\"checkbox\" checked><label for=\"sk-estimator-id-4\" class=\"sk-toggleable__label sk-toggleable__label-arrow\">RandomForestClassifier</label><div class=\"sk-toggleable__content\"><pre>RandomForestClassifier(n_estimators=1000)</pre></div></div></div></div></div>"
      ],
      "text/plain": [
       "RandomForestClassifier(n_estimators=1000)"
      ]
     },
     "execution_count": 72,
     "metadata": {},
     "output_type": "execute_result"
    }
   ],
   "source": [
    "%%time\n",
    "model = RandomForestClassifier(n_estimators=1000)\n",
    "model.fit(X_train_N, y_train_N)"
   ]
  },
  {
   "cell_type": "code",
   "execution_count": 86,
   "id": "8681b113",
   "metadata": {},
   "outputs": [],
   "source": [
    "#copy pasta\n",
    "N = 10000    \n",
    "X_test_N = np.zeros([N,len(data['data0'][\"0\"])])   \n",
    "y_test_N = np.zeros(N)\n",
    "dataset_counter = 0\n",
    "internal_counter = 0\n",
    "for i in range(N):\n",
    "    if internal_counter >=1001:\n",
    "        #print(internal_counter)\n",
    "        #5print(dataset_counter)\n",
    "        internal_counter = 0\n",
    "        dataset_counter += 1\n",
    "    X_test_N[i,:] = data['data'+str(dataset_counter)][str(internal_counter)]\n",
    "    #print(truths['data'+str(dataset_counter)][internal_counter])\n",
    "    y_test_N[i] = truths['data'+str(dataset_counter)][internal_counter]\n",
    "    internal_counter += 1\n",
    "# X_test = np.zeros([1001,len(data['data1'][\"0\"])])   \n",
    "# y_test = np.zeros(len(truths['data1']))\n",
    "# for i in range(0,len(truths['data1'])):\n",
    "#     #print(i)\n",
    "#     X_test[i,:] = data['data1'][str(i)]\n",
    "#     y_test[i] = truths['data1'][i]"
   ]
  },
  {
   "cell_type": "code",
   "execution_count": 87,
   "id": "ac3d0b1f",
   "metadata": {},
   "outputs": [
    {
     "name": "stdout",
     "output_type": "stream",
     "text": [
      "CPU times: user 3.76 s, sys: 12.3 ms, total: 3.78 s\n",
      "Wall time: 3.78 s\n"
     ]
    }
   ],
   "source": [
    "%%time\n",
    "y_pred = model.predict(X_test_N)\n",
    "err = np.abs(y_pred - y_test_N)"
   ]
  },
  {
   "cell_type": "code",
   "execution_count": 88,
   "id": "0c471ef0",
   "metadata": {},
   "outputs": [
    {
     "name": "stdout",
     "output_type": "stream",
     "text": [
      "[1. 1. 1. 0. 0. 0. 1. 0. 1. 0. 0. 0. 0. 0. 1. 1. 1. 1. 1. 0. 0. 0. 0. 1.\n",
      " 0. 0. 0. 0. 1. 0. 0. 1. 1. 0. 0. 0. 0. 1. 1. 0. 1. 1. 0. 1. 0. 0. 0. 1.\n",
      " 0. 0.]\n",
      "[1. 1. 1. 0. 0. 0. 1. 0. 1. 0. 0. 0. 0. 1. 1. 1. 1. 1. 1. 0. 0. 0. 1. 1.\n",
      " 0. 0. 0. 0. 1. 0. 0. 1. 1. 0. 0. 0. 0. 1. 1. 0. 0. 1. 0. 0. 0. 0. 0. 1.\n",
      " 0. 0.]\n"
     ]
    }
   ],
   "source": [
    "print(y_test_N[0:50])\n",
    "print(y_pred[0:50])"
   ]
  },
  {
   "cell_type": "code",
   "execution_count": 89,
   "id": "9c96abd3",
   "metadata": {},
   "outputs": [
    {
     "name": "stdout",
     "output_type": "stream",
     "text": [
      "Random forest: 93.13% correct predictions\n"
     ]
    },
    {
     "data": {
      "image/png": "[encoded data removed]",
      "text/plain": [
       "<Figure size 450x300 with 1 Axes>"
      ]
     },
     "metadata": {
      "needs_background": "light"
     },
     "output_type": "display_data"
    }
   ],
   "source": [
    "fig = plt.figure( figsize=(3,2), dpi=150 )\n",
    "ax = fig.add_subplot(111)\n",
    "ax.set_xlabel('Error')\n",
    "ax.set_ylabel('Number of data sets')\n",
    "#ax.set_title('Test set: k = %d' % k)\n",
    "ax.hist(err, bins=np.arange(5)-0.5, label='Random Forest')\n",
    "ax.legend(loc='best', prop={'size':6})\n",
    "\n",
    "ind_forest = np.where(err == 0)[0]\n",
    "print('Random forest: {:.2f}% correct predictions'.format(100.*ind_forest.size/len(err)))"
   ]
  },
  {
   "cell_type": "code",
   "execution_count": null,
   "id": "b20ce240",
   "metadata": {},
   "outputs": [],
   "source": []
  }
 ],
 "metadata": {
  "kernelspec": {
   "display_name": "Python 3",
   "language": "python",
   "name": "python3"
  },
  "language_info": {
   "codemirror_mode": {
    "name": "ipython",
    "version": 3
   },
   "file_extension": ".py",
   "mimetype": "text/x-python",
   "name": "python",
   "nbconvert_exporter": "python",
   "pygments_lexer": "ipython3",
   "version": "3.8.5"
  }
 },
 "nbformat": 4,
 "nbformat_minor": 5
}
